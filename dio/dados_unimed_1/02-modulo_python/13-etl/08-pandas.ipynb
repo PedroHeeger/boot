{
  "cells": [
    {
      "cell_type": "markdown",
      "metadata": {
        "colab_type": "text",
        "id": "view-in-github"
      },
      "source": [
        "<a href=\"https://colab.research.google.com/github/PedroHeeger/boot/blob/teste/dio/dados_unimed_1/curso_python/13-etl/08-pandas.ipynb\" target=\"_parent\"><img src=\"https://colab.research.google.com/assets/colab-badge.svg\" alt=\"Open In Colab\"/></a>"
      ]
    },
    {
      "cell_type": "markdown",
      "metadata": {},
      "source": [
        "* **Plataforma**: [DIO (Digital Inovation One)](/dio/)\n",
        "* **Bootcamp**: [Geração Tech Unimed-BH - Ciência de Dados: Básico; 126 Hrs](/dio/dados_unimed_1/)\n",
        "* **Módulo_Bootcamp**: [2) Python para Cientistas de Dados (21)](/dio/dados_unimed_1/02-modulo_python/)\n",
        "# 2.13) Curso: Fundamentos de ETL (Extract, Transform, Load) com Python (2)\n",
        "## 2.13.1) Fundamentos de ETL (10)\n",
        "### 2.13.1.8) Manipulando Dados com Pandas em Python"
      ]
    },
    {
      "cell_type": "code",
      "execution_count": null,
      "metadata": {
        "id": "leDFNBXebiDI"
      },
      "outputs": [],
      "source": [
        "# Importando o pandas e lendo o arquivo csv\n",
        "import pandas as pd\n",
        "url = \"https://raw.githubusercontent.com/Muralimekala/python/master/Resp2.csv\"\n",
        "df1 = pd.read_csv(url)"
      ]
    },
    {
      "cell_type": "code",
      "execution_count": null,
      "metadata": {
        "id": "iQB_4CfCfGju"
      },
      "outputs": [],
      "source": [
        "# Importando o pandas e lendo o arquivo csv\n",
        "import pandas as pd\n",
        "url = \"https://raw.githubusercontent.com/Muralimekala/python/master/Salaries.csv\"\n",
        "sf = pd.read_csv(url)\n",
        "sf.head()"
      ]
    }
  ],
  "metadata": {
    "colab": {
      "authorship_tag": "ABX9TyMES9186vTI6t7mDP+x9+0E",
      "include_colab_link": true,
      "provenance": []
    },
    "kernelspec": {
      "display_name": "Python 3.8.10 64-bit",
      "language": "python",
      "name": "python3"
    },
    "language_info": {
      "name": "python",
      "version": "3.8.10"
    },
    "vscode": {
      "interpreter": {
        "hash": "916dbcbb3f70747c44a77c7bcd40155683ae19c65e1c03b4aa3499c5328201f1"
      }
    }
  },
  "nbformat": 4,
  "nbformat_minor": 0
}
