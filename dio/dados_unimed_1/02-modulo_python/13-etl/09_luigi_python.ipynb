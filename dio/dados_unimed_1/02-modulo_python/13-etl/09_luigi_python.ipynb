{
  "cells": [
    {
      "cell_type": "markdown",
      "metadata": {
        "colab_type": "text",
        "id": "view-in-github"
      },
      "source": [
        "<a href=\"https://colab.research.google.com/github/PedroHeeger/boot/blob/teste/dio/dados_unimed_1/curso_python/13-etl/09_luigi_python.ipynb\" target=\"_parent\"><img src=\"https://colab.research.google.com/assets/colab-badge.svg\" alt=\"Open In Colab\"/></a>"
      ]
    },
    {
      "cell_type": "markdown",
      "metadata": {},
      "source": [
        "* **Plataforma**: [DIO (Digital Inovation One)](/dio/)\n",
        "* **Bootcamp**: [Geração Tech Unimed-BH - Ciência de Dados: Básico; 126 Hrs](/dio/dados_unimed_1/)\n",
        "* **Módulo_Bootcamp**: [2) Python para Cientistas de Dados (21)](/dio/dados_unimed_1/02-modulo_python/)\n",
        "# 2.13) Curso: Fundamentos de ETL (Extract, Transform, Load) com Python (2)\n",
        "## 2.13.1) Fundamentos de ETL (10)\n",
        "### 2.13.1.9) Framework Luigi para ETL com Python"
      ]
    },
    {
      "cell_type": "markdown",
      "metadata": {},
      "source": [
        "### TODO: Fazer!!"
      ]
    },
    {
      "cell_type": "code",
      "execution_count": 25,
      "metadata": {
        "colab": {
          "base_uri": "https://localhost:8080/"
        },
        "id": "FYXdiSRvl09r",
        "outputId": "58b941df-a68f-4b06-9d56-55c9b78d2e45"
      },
      "outputs": [
        {
          "name": "stdout",
          "output_type": "stream",
          "text": [
            "Looking in indexes: https://pypi.org/simple, https://us-python.pkg.dev/colab-wheels/public/simple/\n",
            "Requirement already satisfied: luigi in /usr/local/lib/python3.7/dist-packages (3.1.1)\n",
            "Requirement already satisfied: tenacity<9,>=8 in /usr/local/lib/python3.7/dist-packages (from luigi) (8.1.0)\n",
            "Requirement already satisfied: tornado<7,>=5.0 in /usr/local/lib/python3.7/dist-packages (from luigi) (6.0.4)\n",
            "Requirement already satisfied: python-daemon in /usr/local/lib/python3.7/dist-packages (from luigi) (2.3.2)\n",
            "Requirement already satisfied: python-dateutil<3,>=2.7.5 in /usr/local/lib/python3.7/dist-packages (from luigi) (2.8.2)\n",
            "Requirement already satisfied: six>=1.5 in /usr/local/lib/python3.7/dist-packages (from python-dateutil<3,>=2.7.5->luigi) (1.15.0)\n",
            "Requirement already satisfied: lockfile>=0.10 in /usr/local/lib/python3.7/dist-packages (from python-daemon->luigi) (0.12.2)\n",
            "Requirement already satisfied: setuptools in /usr/local/lib/python3.7/dist-packages (from python-daemon->luigi) (57.4.0)\n",
            "Requirement already satisfied: docutils in /usr/local/lib/python3.7/dist-packages (from python-daemon->luigi) (0.17.1)\n"
          ]
        }
      ],
      "source": [
        "# Instalando o Framework Luigi\n",
        "!pip3 install luigi"
      ]
    },
    {
      "cell_type": "code",
      "execution_count": 44,
      "metadata": {
        "colab": {
          "base_uri": "https://localhost:8080/"
        },
        "id": "7gwOapcql9ZD",
        "outputId": "3b22b8a2-9af3-46c3-f21d-e12da1c3eeab"
      },
      "outputs": [
        {
          "name": "stdout",
          "output_type": "stream",
          "text": [
            "2022-11-10 18:15:43,506 luigi[428] INFO: logging configured by default settings\n",
            "2022-11-10 18:15:43,508 luigi.scheduler[428] INFO: No prior state file exists at /var/lib/luigi-server/state.pickle. Starting with empty state\n",
            "Traceback (most recent call last):\n",
            "  File \"/usr/local/bin/luigid\", line 8, in <module>\n",
            "    sys.exit(luigid())\n",
            "  File \"/usr/local/lib/python3.7/dist-packages/luigi/cmdline.py\", line 37, in luigid\n",
            "    luigi.server.run(api_port=opts.port, address=opts.address, unix_socket=opts.unix_socket)\n",
            "  File \"/usr/local/lib/python3.7/dist-packages/luigi/server.py\", line 351, in run\n",
            "    unix_socket=unix_socket,\n",
            "  File \"/usr/local/lib/python3.7/dist-packages/luigi/server.py\", line 329, in _init_api\n",
            "    api_sockets = tornado.netutil.bind_sockets(api_port, address=address)\n",
            "  File \"/usr/local/lib/python3.7/dist-packages/tornado/netutil.py\", line 174, in bind_sockets\n",
            "    sock.bind(sockaddr)\n",
            "OSError: [Errno 99] Cannot assign requested address\n"
          ]
        }
      ],
      "source": [
        "# \n",
        "!luigid --address localhost --port 8085"
      ]
    },
    {
      "cell_type": "code",
      "execution_count": 40,
      "metadata": {
        "colab": {
          "base_uri": "https://localhost:8080/"
        },
        "id": "eUrdTnado8BO",
        "outputId": "b4537a4b-e788-4c7a-e72f-861e18d1252a"
      },
      "outputs": [
        {
          "name": "stdout",
          "output_type": "stream",
          "text": [
            "34.125.120.211"
          ]
        }
      ],
      "source": [
        "!curl ipecho.net/plain"
      ]
    },
    {
      "cell_type": "code",
      "execution_count": null,
      "metadata": {
        "id": "Out4j4LxuElV"
      },
      "outputs": [],
      "source": []
    }
  ],
  "metadata": {
    "colab": {
      "authorship_tag": "ABX9TyN1RqvDTKUkqRJ1jcpdlwpe",
      "include_colab_link": true,
      "provenance": []
    },
    "kernelspec": {
      "display_name": "Python 3.8.10 64-bit",
      "language": "python",
      "name": "python3"
    },
    "language_info": {
      "name": "python",
      "version": "3.8.10"
    },
    "vscode": {
      "interpreter": {
        "hash": "916dbcbb3f70747c44a77c7bcd40155683ae19c65e1c03b4aa3499c5328201f1"
      }
    }
  },
  "nbformat": 4,
  "nbformat_minor": 0
}
