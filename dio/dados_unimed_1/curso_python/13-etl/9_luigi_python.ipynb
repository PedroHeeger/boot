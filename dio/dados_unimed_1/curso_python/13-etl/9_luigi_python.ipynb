{
  "nbformat": 4,
  "nbformat_minor": 0,
  "metadata": {
    "colab": {
      "provenance": [],
      "authorship_tag": "ABX9TyN1RqvDTKUkqRJ1jcpdlwpe",
      "include_colab_link": true
    },
    "kernelspec": {
      "name": "python3",
      "display_name": "Python 3"
    },
    "language_info": {
      "name": "python"
    }
  },
  "cells": [
    {
      "cell_type": "markdown",
      "metadata": {
        "id": "view-in-github",
        "colab_type": "text"
      },
      "source": [
        "<a href=\"https://colab.research.google.com/github/PedroHeeger/boot/blob/teste/dio/dados_unimed_1/curso_python/13-etl/9_luigi_python.ipynb\" target=\"_parent\"><img src=\"https://colab.research.google.com/assets/colab-badge.svg\" alt=\"Open In Colab\"/></a>"
      ]
    },
    {
      "cell_type": "markdown",
      "source": [
        "# **Aula 09 - Framework Luigi para ETL com Python**"
      ],
      "metadata": {
        "id": "528HvEA2mXvN"
      }
    },
    {
      "cell_type": "code",
      "execution_count": 25,
      "metadata": {
        "colab": {
          "base_uri": "https://localhost:8080/"
        },
        "id": "FYXdiSRvl09r",
        "outputId": "58b941df-a68f-4b06-9d56-55c9b78d2e45"
      },
      "outputs": [
        {
          "output_type": "stream",
          "name": "stdout",
          "text": [
            "Looking in indexes: https://pypi.org/simple, https://us-python.pkg.dev/colab-wheels/public/simple/\n",
            "Requirement already satisfied: luigi in /usr/local/lib/python3.7/dist-packages (3.1.1)\n",
            "Requirement already satisfied: tenacity<9,>=8 in /usr/local/lib/python3.7/dist-packages (from luigi) (8.1.0)\n",
            "Requirement already satisfied: tornado<7,>=5.0 in /usr/local/lib/python3.7/dist-packages (from luigi) (6.0.4)\n",
            "Requirement already satisfied: python-daemon in /usr/local/lib/python3.7/dist-packages (from luigi) (2.3.2)\n",
            "Requirement already satisfied: python-dateutil<3,>=2.7.5 in /usr/local/lib/python3.7/dist-packages (from luigi) (2.8.2)\n",
            "Requirement already satisfied: six>=1.5 in /usr/local/lib/python3.7/dist-packages (from python-dateutil<3,>=2.7.5->luigi) (1.15.0)\n",
            "Requirement already satisfied: lockfile>=0.10 in /usr/local/lib/python3.7/dist-packages (from python-daemon->luigi) (0.12.2)\n",
            "Requirement already satisfied: setuptools in /usr/local/lib/python3.7/dist-packages (from python-daemon->luigi) (57.4.0)\n",
            "Requirement already satisfied: docutils in /usr/local/lib/python3.7/dist-packages (from python-daemon->luigi) (0.17.1)\n"
          ]
        }
      ],
      "source": [
        "# Instalando o Framework Luigi\n",
        "!pip3 install luigi"
      ]
    },
    {
      "cell_type": "code",
      "source": [
        "!luigid --address localhost --port 8085"
      ],
      "metadata": {
        "colab": {
          "base_uri": "https://localhost:8080/"
        },
        "id": "7gwOapcql9ZD",
        "outputId": "3b22b8a2-9af3-46c3-f21d-e12da1c3eeab"
      },
      "execution_count": 44,
      "outputs": [
        {
          "output_type": "stream",
          "name": "stdout",
          "text": [
            "2022-11-10 18:15:43,506 luigi[428] INFO: logging configured by default settings\n",
            "2022-11-10 18:15:43,508 luigi.scheduler[428] INFO: No prior state file exists at /var/lib/luigi-server/state.pickle. Starting with empty state\n",
            "Traceback (most recent call last):\n",
            "  File \"/usr/local/bin/luigid\", line 8, in <module>\n",
            "    sys.exit(luigid())\n",
            "  File \"/usr/local/lib/python3.7/dist-packages/luigi/cmdline.py\", line 37, in luigid\n",
            "    luigi.server.run(api_port=opts.port, address=opts.address, unix_socket=opts.unix_socket)\n",
            "  File \"/usr/local/lib/python3.7/dist-packages/luigi/server.py\", line 351, in run\n",
            "    unix_socket=unix_socket,\n",
            "  File \"/usr/local/lib/python3.7/dist-packages/luigi/server.py\", line 329, in _init_api\n",
            "    api_sockets = tornado.netutil.bind_sockets(api_port, address=address)\n",
            "  File \"/usr/local/lib/python3.7/dist-packages/tornado/netutil.py\", line 174, in bind_sockets\n",
            "    sock.bind(sockaddr)\n",
            "OSError: [Errno 99] Cannot assign requested address\n"
          ]
        }
      ]
    },
    {
      "cell_type": "code",
      "source": [
        "!curl ipecho.net/plain"
      ],
      "metadata": {
        "colab": {
          "base_uri": "https://localhost:8080/"
        },
        "id": "eUrdTnado8BO",
        "outputId": "b4537a4b-e788-4c7a-e72f-861e18d1252a"
      },
      "execution_count": 40,
      "outputs": [
        {
          "output_type": "stream",
          "name": "stdout",
          "text": [
            "34.125.120.211"
          ]
        }
      ]
    },
    {
      "cell_type": "code",
      "source": [],
      "metadata": {
        "id": "Out4j4LxuElV"
      },
      "execution_count": null,
      "outputs": []
    }
  ]
}